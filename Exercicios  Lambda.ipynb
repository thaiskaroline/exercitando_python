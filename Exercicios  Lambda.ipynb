{
 "cells": [
  {
   "cell_type": "code",
   "execution_count": 4,
   "id": "d232a08c",
   "metadata": {},
   "outputs": [
    {
     "name": "stdout",
     "output_type": "stream",
     "text": [
      "[5, 15, 23, 25]\n",
      "[25, 225, 529, 625]\n",
      "[2, 8, 10, 12, 18, 20, 28]\n"
     ]
    }
   ],
   "source": [
    "\"\"\"\n",
    "Exercício: Filtrando e Transformando Dados com Lambda\n",
    "\n",
    "Objetivo: Familiarizar-se com o uso de funções lambda \n",
    "juntamente com funções built-in como filter e map.\n",
    "\n",
    "Instruções:\n",
    "\n",
    "    1. Dada uma lista de números: numeros = [2, 5, 8, 10, 12, 15, 18, 20, 23, 25, 28].\n",
    "    \n",
    "    2. Use a função filter() e uma função lambda para criar uma nova \n",
    "    lista que contém apenas os números ímpares da lista original.\n",
    "    \n",
    "    3. Em seguida, use a função map() e uma função lambda para \n",
    "    criar uma nova lista que contém o quadrado de cada número da lista de números ímpares.\n",
    "    \n",
    "    4. Imprima ambas as listas.\n",
    "    \n",
    "    Dicas:\n",
    "\n",
    "    Use filter() para filtrar itens de uma lista.\n",
    "    Use map() para aplicar uma função a cada item de uma lista.\n",
    "\"\"\"\n",
    "\n",
    "numeros = [2, 5, 8, 10, 12, 15, 18, 20, 23, 25, 28]\n",
    "\n",
    "filtrando = list((filter(lambda n: n % 2 != 0, numeros)))\n",
    "\n",
    "mapeando = list(map(lambda n: n**2, filtrando))\n",
    "\n",
    "positivos = list(filter(lambda n: n % 2 == 0, numeros))\n",
    "\n",
    "\n",
    "print(filtrando)\n",
    "print(mapeando)\n",
    "print(positivos)\n"
   ]
  },
  {
   "cell_type": "code",
   "execution_count": null,
   "id": "e6352ecc",
   "metadata": {},
   "outputs": [],
   "source": []
  }
 ],
 "metadata": {
  "kernelspec": {
   "display_name": "Python 3 (ipykernel)",
   "language": "python",
   "name": "python3"
  },
  "language_info": {
   "codemirror_mode": {
    "name": "ipython",
    "version": 3
   },
   "file_extension": ".py",
   "mimetype": "text/x-python",
   "name": "python",
   "nbconvert_exporter": "python",
   "pygments_lexer": "ipython3",
   "version": "3.11.5"
  }
 },
 "nbformat": 4,
 "nbformat_minor": 5
}
