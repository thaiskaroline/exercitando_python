{
 "cells": [
  {
   "cell_type": "code",
   "execution_count": 2,
   "id": "a1f16f71",
   "metadata": {},
   "outputs": [
    {
     "name": "stdout",
     "output_type": "stream",
     "text": [
      "Digite o ano que nasceu: 2000\n",
      "Sua idade é  -24\n"
     ]
    }
   ],
   "source": [
    "\"\"\"\n",
    "\n",
    "Exercício\n",
    "\n",
    "Crie um algoritmo que solicite o ano de nascimento do usuário e \n",
    "com base no ano corrente imprima a idade\n",
    "\n",
    "\"\"\"\n",
    "\n",
    "ano_nascimento = int(input(\"Digite o ano que nasceu: \"))\n",
    "ano_atual = 2024\n",
    "\n",
    "idade= ano_nascimento - ano_atual\n",
    "\n",
    "\n",
    "print(\"Sua idade é \", idade)"
   ]
  },
  {
   "cell_type": "code",
   "execution_count": 4,
   "id": "96da8f17",
   "metadata": {},
   "outputs": [
    {
     "name": "stdout",
     "output_type": "stream",
     "text": [
      "O nome dela é Thais a idade dela é 24 ela nasceu em 2000\n"
     ]
    }
   ],
   "source": [
    "# 1. Crie uma variável chamada nome e atribua o seu nome a ela como um valor.\n",
    "nome = \"Thais\"\n",
    "\n",
    "# 2. Crie duas variáveis chamadas idade e ano_atual. \n",
    "idade = 24\n",
    "ano_atual = 2024\n",
    "\n",
    "# 3. Calcule o ano em que você nasceu.\n",
    "\n",
    "ano_nascimento = ano_atual - idade\n",
    "\n",
    "# 4. Incremente a variável idade em 1.\n",
    "aniversario = idade + 1\n",
    "\n",
    "# 5. Imprima as mensagens.\n",
    "\n",
    "print(\"O nome dela é\", nome, \"a idade dela é\", idade, \"ela nasceu em\", ano_nascimento)"
   ]
  },
  {
   "cell_type": "code",
   "execution_count": null,
   "id": "ea248cc6",
   "metadata": {},
   "outputs": [],
   "source": []
  }
 ],
 "metadata": {
  "kernelspec": {
   "display_name": "Python 3 (ipykernel)",
   "language": "python",
   "name": "python3"
  },
  "language_info": {
   "codemirror_mode": {
    "name": "ipython",
    "version": 3
   },
   "file_extension": ".py",
   "mimetype": "text/x-python",
   "name": "python",
   "nbconvert_exporter": "python",
   "pygments_lexer": "ipython3",
   "version": "3.11.5"
  }
 },
 "nbformat": 4,
 "nbformat_minor": 5
}
