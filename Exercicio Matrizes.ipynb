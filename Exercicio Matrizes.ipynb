{
 "cells": [
  {
   "cell_type": "code",
   "execution_count": 21,
   "id": "de4b2a09",
   "metadata": {},
   "outputs": [
    {
     "name": "stdout",
     "output_type": "stream",
     "text": [
      " 1  2  3  4 \n",
      " 5  6  7  8 \n",
      " 9  10  11  12 \n",
      " 13  14  15  16 \n",
      "\n",
      "A soma dos numeros pares da matriz é 72\n"
     ]
    }
   ],
   "source": [
    "\"\"\"\n",
    "Exercício: Soma dos Números Pares em uma Matriz 4x4\n",
    "\n",
    "Enunciado:\n",
    "\n",
    "Dada a seguinte matriz 4x4:\n",
    "1   2   3   4\n",
    "5   6   7   8\n",
    "9   10  11  12\n",
    "13  14  15  16\n",
    "\n",
    "    - Escreva um programa em Python que percorre cada elemento da matriz.\n",
    "    - Some todos os números pares presentes na matriz.\n",
    "    - Imprima o resultado da soma.\n",
    "\n",
    "Dica: Use loops for aninhados para percorrer cada linha e coluna da matriz. \n",
    "Utilize o operador % para verificar se um número é par.\n",
    "\n",
    "Ao resolver o exercício, os alunos devem ser capazes de navegar pelos elementos \n",
    "da matriz, aplicar condições lógicas e acumular valores baseados em critérios específicos.\n",
    "\"\"\"\n",
    "\n",
    "matriz = [[1,2,3,4], [5,6,7,8], [9,10,11,12], [13,14,15,16] ]\n",
    "soma_pares = 0   \n",
    "for linha in range(4):\n",
    "    \n",
    "    for coluna in range(4):\n",
    "        \n",
    "        print(f\" {matriz[linha][coluna] }\",end=\" \")\n",
    "            \n",
    "        if matriz[linha][coluna] % 2 == 0:\n",
    "        \n",
    "            soma_pares += matriz[linha][coluna]\n",
    "        \n",
    "    print()\n",
    "    \n",
    "print()\n",
    "\n",
    "        \n",
    "        \n",
    "print(f\"A soma dos numeros pares da matriz é {soma_pares}\")    \n",
    "    \n",
    "    "
   ]
  },
  {
   "cell_type": "code",
   "execution_count": 33,
   "id": "78ff890c",
   "metadata": {},
   "outputs": [
    {
     "name": "stdout",
     "output_type": "stream",
     "text": [
      "['Ana', 25] ['Bruno', 31] ['Carlos', 29] ['Alice', 34] \n",
      "['Amanda', 22] ['Beatriz', 45] ['Clara', 30] ['Arnaldo', 27] \n",
      "['Alfredo', 35] ['Bianca', 28] ['Cesar', 32] ['Ariel', 23] \n",
      "['Alberto', 40] ['Beto', 24] ['Camila', 21] ['Adriana', 37] \n",
      "\n",
      "['Bruno', 31] ['Alice', 34] ['Beatriz', 45] ['Alfredo', 35] ['Cesar', 32] ['Alberto', 40] ['Adriana', 37] "
     ]
    }
   ],
   "source": [
    "\"\"\"\n",
    "Exercício:\n",
    "\n",
    "Dada a matriz matriz_pessoas, escreva um programa que imprima \n",
    "os nomes das pessoas com mais de 30 anos.\n",
    "\n",
    "    matriz_pessoas = [\n",
    "    [[\"Ana\", 25], [\"Bruno\", 31], [\"Carlos\", 29], [\"Alice\", 34]],\n",
    "    [[\"Amanda\", 22], [\"Beatriz\", 45], [\"Clara\", 30], [\"Arnaldo\", 27]],\n",
    "    [[\"Alfredo\", 35], [\"Bianca\", 28], [\"Cesar\", 32], [\"Ariel\", 23]],\n",
    "    [[\"Alberto\", 40], [\"Beto\", 24], [\"Camila\", 21], [\"Adriana\", 37]]\n",
    "]\n",
    "\n",
    "\"\"\"\n",
    "\n",
    "matriz_pessoas = [\n",
    "    [[\"Ana\", 25], [\"Bruno\", 31], [\"Carlos\", 29], [\"Alice\", 34]],\n",
    "    [[\"Amanda\", 22], [\"Beatriz\", 45], [\"Clara\", 30], [\"Arnaldo\", 27]],\n",
    "    [[\"Alfredo\", 35], [\"Bianca\", 28], [\"Cesar\", 32], [\"Ariel\", 23]],\n",
    "    [[\"Alberto\", 40], [\"Beto\", 24], [\"Camila\", 21], [\"Adriana\", 37]]\n",
    "]\n",
    "\n",
    "\n",
    "for linha in range(4):\n",
    "    \n",
    "    for coluna in range(4):\n",
    "        \n",
    "        print(matriz_pessoas[linha][coluna], end=\" \")\n",
    "            \n",
    "        \n",
    "        \n",
    "    print()\n",
    "print()   \n",
    "    \n",
    "for linha in range(4):\n",
    "    \n",
    "    for coluna in range(4):\n",
    "        \n",
    "        \n",
    "        if matriz_pessoas[linha][coluna][1] > 30:\n",
    "            \n",
    "            print(matriz_pessoas[linha][coluna], end = \" \")\n",
    "            \n",
    "        \n",
    "        "
   ]
  },
  {
   "cell_type": "code",
   "execution_count": 51,
   "id": "d172dc4b",
   "metadata": {},
   "outputs": [
    {
     "name": "stdout",
     "output_type": "stream",
     "text": [
      "Digite o nome do candidado:Lula\n",
      "Digite o nome do candidado:Haddad\n",
      "Digite o nome do candidado:Bolsonaro\n",
      "Digite o nome do candidado:Lula\n",
      "Resultados\n",
      "Lula: 2 votos\n",
      "Bolsonaro: 1 votos\n",
      "Haddad: 1 votos\n",
      "O candidato vencedor é Haddad com -1 votos.\n"
     ]
    }
   ],
   "source": [
    "\"\"\"\n",
    "Exercício: Urna Eletrônica com Matrizes\n",
    "\n",
    "Imagine que estamos conduzindo uma eleição para escolher o representante \n",
    "estudantil de uma universidade. Existem três candidatos concorrendo e, para \n",
    "simplificar, cada aluno pode votar apenas uma vez.\n",
    "\n",
    "Seu objetivo é criar um programa que simule uma urna eletrônica \n",
    "simples usando matrizes.\n",
    "\n",
    "Especificações:\n",
    "\n",
    "    - A matriz terá 2 colunas: a primeira para armazenar o nome do \n",
    "    candidato e a segunda para armazenar a quantidade de votos.\n",
    "    \n",
    "    - O usuário deve inserir o nome do candidato em quem deseja votar. \n",
    "    Se o voto for para um candidato não listado, ele será considerado nulo.\n",
    "    \n",
    "    - Depois que todos os votos forem inseridos, o programa deve imprimir \n",
    "    o nome de cada candidato, o número total de votos que receberam e o vencedor da eleição.\n",
    "\n",
    "Dica: Para simplificar, considere que o número total de eleitores é fixo, digamos 10.\n",
    "\"\"\"\n",
    "urna = [[\"Lula\",0], [\"Bolsonaro\",0], [\"Haddad\",0]]\n",
    "\n",
    "\n",
    "for i in range(4):\n",
    "    voto = input(\"Digite o nome do candidado:\")\n",
    "    encontrado = False\n",
    "    for candidato in urna:\n",
    "        if candidato[0] == voto:\n",
    "            candidato[1] += 1\n",
    "            encontrado = True\n",
    "            break\n",
    "        \n",
    "    if not encontrado:\n",
    "        \n",
    "        print(\"Voto nulo\")\n",
    "            \n",
    "print(\"Resultados\")\n",
    "\n",
    "votos_maximo = -1\n",
    "vencedor = \"\"\n",
    "\n",
    "for candidato in urna:\n",
    "    \n",
    "    print(f\"{candidato[0]}: {candidato[1]} votos\")\n",
    "    \n",
    "    if candidato[1]>votos_maximo:\n",
    "        votos_maximos = candidato[1]\n",
    "        vencedor = candidato[0]\n",
    "        \n",
    "print(f\"O candidato vencedor é {vencedor} com {votos_maximo} votos.\")"
   ]
  },
  {
   "cell_type": "code",
   "execution_count": 11,
   "id": "350ceccd",
   "metadata": {},
   "outputs": [
    {
     "name": "stdout",
     "output_type": "stream",
     "text": [
      "MENU\n",
      "\n",
      "1. Ver a disposição dos assentos\n",
      "\n",
      "2. Reservar um assento\n",
      "\n",
      "3. Sair\n",
      "\n",
      "Escolha uma opção: 1\n",
      "D D D D D D D D D D \n",
      "D D D D D D D D D D \n",
      "D D D D D D D D D D \n",
      "D D D D D D D D D D \n",
      "D D D D D D D D D D \n",
      "MENU\n",
      "\n",
      "1. Ver a disposição dos assentos\n",
      "\n",
      "2. Reservar um assento\n",
      "\n",
      "3. Sair\n",
      "\n",
      "Escolha uma opção: 2\n",
      "Digite a fileira desejada: Linha (0-4)0\n",
      "Digite o assento desejado: Coluna (0-9) 6\n",
      "Assento reservado com sucesso.\n",
      "MENU\n",
      "\n",
      "1. Ver a disposição dos assentos\n",
      "\n",
      "2. Reservar um assento\n",
      "\n",
      "3. Sair\n",
      "\n",
      "Escolha uma opção: 2\n",
      "Digite a fileira desejada: Linha (0-4)4\n",
      "Digite o assento desejado: Coluna (0-9) 8\n",
      "Assento reservado com sucesso.\n",
      "MENU\n",
      "\n",
      "1. Ver a disposição dos assentos\n",
      "\n",
      "2. Reservar um assento\n",
      "\n",
      "3. Sair\n",
      "\n",
      "Escolha uma opção: 2\n",
      "Digite a fileira desejada: Linha (0-4)2\n",
      "Digite o assento desejado: Coluna (0-9) 3\n",
      "Assento reservado com sucesso.\n",
      "MENU\n",
      "\n",
      "1. Ver a disposição dos assentos\n",
      "\n",
      "2. Reservar um assento\n",
      "\n",
      "3. Sair\n",
      "\n",
      "Escolha uma opção: 1\n",
      "D D D D D D R D D D \n",
      "D D D D D D D D D D \n",
      "D D D R D D D D D D \n",
      "D D D D D D D D D D \n",
      "D D D D D D D D R D \n",
      "MENU\n",
      "\n",
      "1. Ver a disposição dos assentos\n",
      "\n",
      "2. Reservar um assento\n",
      "\n",
      "3. Sair\n",
      "\n",
      "Escolha uma opção: 3\n",
      "Encerrando programa..\n"
     ]
    }
   ],
   "source": [
    "\"\"\"\n",
    "Exercício: Reserva de Assentos no Cinema usando Matrizes\n",
    "\n",
    "Você foi contratado para criar um sistema simples de reserva de \n",
    "assentos para um pequeno cinema. O cinema tem 5 fileiras e 10 assentos \n",
    "em cada fileira, totalizando 50 assentos.\n",
    "\n",
    "Cada assento pode estar disponível, reservado ou ocupado.\n",
    "\n",
    "Especificações:\n",
    "\n",
    "    Inicie com todos os assentos disponíveis.\n",
    "    - O usuário pode escolher entre ver a disposição dos assentos, \n",
    "    reservar um assento ou sair.\n",
    "    \n",
    "    - A disposição dos assentos deve mostrar \"D\" para assentos \n",
    "    disponíveis, \"R\" para assentos reservados e \"O\" para assentos ocupados.\n",
    "    \n",
    "    - Para reservar um assento, o usuário deve inserir a fileira e o número do assento.\n",
    "    \n",
    "    - Uma vez que um assento é reservado, ele não pode ser selecionado por outro usuário.\n",
    "\n",
    "Dica: Use uma matriz 5x10 para representar o cinema, onde cada elemento é uma \n",
    "string que indica o status do assento.\n",
    "\"\"\"\n",
    "def menu():\n",
    "    \n",
    "    print(\"MENU\\n\")\n",
    "    print(\"1. Ver a disposição dos assentos\\n\")\n",
    "    print(\"2. Reservar um assento\\n\")\n",
    "    print(\"3. Sair\\n\")\n",
    "\n",
    "cinema = []\n",
    "\n",
    "for i in range(5):\n",
    "    \n",
    "    fileira = []\n",
    "    \n",
    "    for j in range(10):\n",
    "        \n",
    "        fileira.append(\"D\")\n",
    "        \n",
    "    cinema.append(fileira)\n",
    "\n",
    "while True:\n",
    "    menu()\n",
    "    \n",
    "    opcao = input(\"Escolha uma opção: \")\n",
    "    \n",
    "    if opcao == \"1\":\n",
    "        for fileira in cinema:\n",
    "            for assento in fileira:\n",
    "                print(assento, end=\" \")\n",
    "            print()\n",
    "                \n",
    "    elif opcao == \"2\":\n",
    "        fileira = int(input(\"Digite a fileira desejada: Linha (0-4)\"))\n",
    "        assento = int(input(\"Digite o assento desejado: Coluna (0-9) \"))\n",
    "        \n",
    "        if cinema[fileira][assento] == 'D':     \n",
    "            cinema[fileira][assento] = 'R'\n",
    "            \n",
    "            print(\"Assento reservado com sucesso.\")\n",
    "            \n",
    "        else:\n",
    "            \n",
    "            print(\"Assento ocupado.\")\n",
    "            \n",
    "    elif opcao == \"3\":\n",
    "        \n",
    "        print(\"Encerrando programa..\")\n",
    "        break\n",
    "        \n",
    "    else:\n",
    "        print(\"Opção Inválida. \")\n",
    "                \n",
    "                \n",
    "                \n",
    "    \n",
    "        \n",
    "        "
   ]
  },
  {
   "cell_type": "code",
   "execution_count": 22,
   "id": "fb62a228",
   "metadata": {},
   "outputs": [
    {
     "name": "stdout",
     "output_type": "stream",
     "text": [
      " | | \n",
      "-----\n",
      " | | \n",
      "-----\n",
      " | | \n",
      "-----\n",
      "Jogador X, escolha a linha e coluna (ex: 0 2): 0 1\n",
      " |X| \n",
      "-----\n",
      " | | \n",
      "-----\n",
      " | | \n",
      "-----\n",
      "Jogador X venceu!\n"
     ]
    }
   ],
   "source": [
    "\"\"\"\n",
    "Exercício - Jogo da Velha com Matriz\n",
    "\n",
    "Objetivo: Implementar o jogo da velha usando uma matriz 3x3 e permitir que dois jogadores joguem um contra o outro.\n",
    "\n",
    "Instruções:\n",
    "\n",
    "    Inicialize uma matriz 3x3 com espaços em branco para representar o tabuleiro do jogo da velha.\n",
    "    Crie uma função para exibir o tabuleiro atualizado a cada jogada.\n",
    "    Crie uma função para verificar se há um vencedor.\n",
    "    Implemente um loop que alterna entre os jogadores (X e O) e permite que eles escolham uma posição no tabuleiro.\n",
    "    Após cada jogada, verifique se há um vencedor ou se o tabuleiro está cheio.\n",
    "    Se houver um vencedor ou o tabuleiro estiver cheio, termine o jogo e exiba o resultado.\n",
    "\n",
    "Dicas:\n",
    "\n",
    "    Lembre-se de verificar as linhas, colunas e diagonais ao procurar por um vencedor.\n",
    "    Certifique-se de que os jogadores não possam escolher uma posição que já foi ocupada.\n",
    "    Use funções para organizar seu código e torná-lo mais legível.\n",
    "\n",
    "\"\"\"\n",
    "jogo = []\n",
    "\n",
    "for linha in range(3):\n",
    "    linhas = []\n",
    "    for coluna in range(3):\n",
    "        \n",
    "        linhas.append(\" \")\n",
    "    jogo.append(linhas)\n",
    "    \n",
    "    \n",
    "def tabuleiro():\n",
    "    \n",
    "    for linha in jogo:\n",
    "        \n",
    "        \n",
    "        print(\"|\".join(linha))\n",
    "        \n",
    "        print(\"-\" * 5)\n",
    "        \n",
    "def vencedor(jogador):\n",
    "    \n",
    "    for i in range(3):\n",
    "        todas_linhas = True\n",
    "        todas_colunas = True\n",
    "        for j in range(3):\n",
    "            if jogo[coluna][linha] != jogador:\n",
    "                todas_linhas = False\n",
    "            elif jogo[linha][coluna] != jogador:\n",
    "                todas_colunas = False\n",
    "                \n",
    "                \n",
    "        if todas_linhas or todas_colunas:\n",
    "            return True\n",
    "        if jogo[0][0] == jogador and jogo[1][1] == jogador and jogo[2][2] == jogador:\n",
    "            return True\n",
    "        if jogo[0][2] == jogador and jogo[1][1] == jogador and jogo[2][0] == jogador:\n",
    "            return True\n",
    "        return False\n",
    "    \n",
    "    \n",
    "def jogada(jogador):\n",
    "    \n",
    "    while True:\n",
    "        jogada = input(f\"Jogador {jogador}, escolha a linha e coluna (ex: 0 2): \")\n",
    "        try:\n",
    "\n",
    "            linha, coluna = map(int, jogada.split())\n",
    "            if jogo[linha][coluna] == ' ':\n",
    "                    jogo[linha][coluna] = jogador\n",
    "                    break\n",
    "            else:\n",
    "                print(\"Posição já ocupada. Tente novamente.\")\n",
    "                \n",
    "        except:\n",
    "            print(\"Entrada inválida. Tente novamente.\")\n",
    "            \n",
    "jogador_atual = 'X'\n",
    "\n",
    "for _ in range(9):\n",
    "    \n",
    "    tabuleiro()\n",
    "    \n",
    "    jogada(jogador_atual)\n",
    "    \n",
    "    if vencedor(jogador_atual):\n",
    "        \n",
    "        # Exibe o tabuleiro final\n",
    "        tabuleiro()\n",
    "        \n",
    "        # Informa que o jogador atual venceu o jogo\n",
    "        print(f\"Jogador {jogador_atual} venceu!\")\n",
    "        \n",
    "        # Encerra o loop, pois o jogo terminou\n",
    "        break\n",
    "    \n",
    "    # Alterna o jogador atual (de 'X' para 'O' ou vice-versa)\n",
    "    jogador_atual = 'O' if jogador_atual == 'X' else 'X'\n",
    "\n",
    "# Caso o loop termine sem encontrar um vencedor (todas as 9 jogadas foram feitas)\n",
    "else:\n",
    "    \n",
    "    # Exibe o tabuleiro final\n",
    "    tabuleiro()\n",
    "    \n",
    "    # Informa que o jogo terminou em empate\n",
    "    print(\"Empate!\")\n",
    "    \n",
    "    "
   ]
  },
  {
   "cell_type": "code",
   "execution_count": null,
   "id": "295618ea",
   "metadata": {},
   "outputs": [],
   "source": [
    "\"\"\"\n",
    "Exercício - Jogo da Velha com Matriz\n",
    "\n",
    "Objetivo: Implementar o jogo da velha usando uma matriz 3x3 e permitir que dois jogadores joguem um contra o outro.\n",
    "\n",
    "Instruções:\n",
    "\n",
    "    Inicialize uma matriz 3x3 com espaços em branco para representar o tabuleiro do jogo da velha.\n",
    "    Crie uma função para exibir o tabuleiro atualizado a cada jogada.\n",
    "    Crie uma função para verificar se há um vencedor.\n",
    "    Implemente um loop que alterna entre os jogadores (X e O) e permite que eles escolham uma posição no tabuleiro.\n",
    "    Após cada jogada, verifique se há um vencedor ou se o tabuleiro está cheio.\n",
    "    Se houver um vencedor ou o tabuleiro estiver cheio, termine o jogo e exiba o resultado.\n",
    "\n",
    "Dicas:\n",
    "\n",
    "    Lembre-se de verificar as linhas, colunas e diagonais ao procurar por um vencedor.\n",
    "    Certifique-se de que os jogadores não possam escolher uma posição que já foi ocupada.\n",
    "    Use funções para organizar seu código e torná-lo mais legível.\n",
    "\n",
    "\"\"\"\n",
    "\n",
    "\n",
    "\n",
    "\n",
    "tabuleiro = []\n",
    "\n",
    "for i in range(3):\n",
    "    \n",
    "    \n",
    "    linha = []\n",
    "    \n",
    "    for j in range(3):\n",
    "        \n",
    "       \n",
    "        linha.append(' ')\n",
    "        \n",
    "    tabuleiro.append(linha)\n",
    "    \n",
    "def exibir_tabuleiro():\n",
    "    \n",
    "  \n",
    "    for linha in tabuleiro:\n",
    "        \n",
    "        \n",
    "        print(\"|\".join(linha))\n",
    "        \n",
    "        print(\"-\" * 5)\n",
    "    \n",
    "    \n",
    "def verificar_vencedor(jogador):\n",
    "   \n",
    "    for i in range(3):   \n",
    "        todas_celulas_linha = True\n",
    "        todas_celulas_coluna = True\n",
    "        \n",
    "        for j in range(3):\n",
    "            if tabuleiro[i][j] != jogador:\n",
    "                todas_celulas_linha = False\n",
    "            if tabuleiro[j][i] != jogador:\n",
    "                todas_celulas_coluna = False\n",
    "                \n",
    "        if todas_celulas_linha or todas_celulas_coluna:\n",
    "            return True\n",
    "        if tabuleiro[0][0] == jogador and tabuleiro[1][1] == jogador and tabuleiro[2][2] == jogador:\n",
    "            return True\n",
    "\n",
    "        if tabuleiro[0][2] == jogador and tabuleiro[1][1] == jogador and tabuleiro[2][0] == jogador:\n",
    "            return True\n",
    "\n",
    "        return False\n",
    "\n",
    "def jogada(jogador):\n",
    "    \n",
    "    \n",
    "    while True:\n",
    "        \n",
    "        jogada = input(f\"Jogador {jogador}, escolha a linha e coluna (ex: 0 2): \")\n",
    "\n",
    "        try:\n",
    "            linha, coluna = map(int, jogada.split())\n",
    "            if tabuleiro[linha][coluna] == ' ':\n",
    "                tabuleiro[linha][coluna] = jogador\n",
    "                break\n",
    "            else:\n",
    "                print(\"Posição já ocupada. Tente novamente.\")\n",
    "        except:\n",
    "            print(\"Entrada inválida. Tente novamente.\")\n",
    "\n",
    "jogador_atual = 'X'\n",
    "\n",
    "for _ in range(9):\n",
    "    \n",
    "    exibir_tabuleiro()\n",
    "\n",
    "    jogada(jogador_atual)\n",
    "\n",
    "    if verificar_vencedor(jogador_atual):\n",
    "\n",
    "        exibir_tabuleiro()\n",
    "\n",
    "        print(f\"Jogador {jogador_atual} venceu!\")\n",
    "        \n",
    "        break\n",
    "\n",
    "    jogador_atual = 'O' if jogador_atual == 'X' else 'X'\n",
    "\n",
    "else:\n",
    "\n",
    "    exibir_tabuleiro()\n",
    "\n",
    "    print(\"Empate!\")"
   ]
  },
  {
   "cell_type": "code",
   "execution_count": 23,
   "id": "09effe1b",
   "metadata": {},
   "outputs": [
    {
     "name": "stdout",
     "output_type": "stream",
     "text": [
      "18\n"
     ]
    }
   ],
   "source": [
    "numero = 1\n",
    "soma = 0\n",
    "\n",
    "while numero <= 10:\n",
    "    if numero % 3 == 0:\n",
    "        soma+= numero\n",
    "    numero += 1\n",
    "print(soma)"
   ]
  },
  {
   "cell_type": "code",
   "execution_count": 24,
   "id": "2bf4a5ab",
   "metadata": {},
   "outputs": [
    {
     "name": "stdout",
     "output_type": "stream",
     "text": [
      "França\n"
     ]
    }
   ],
   "source": [
    "dicionario = { \n",
    "    \"BR\": \"Brasil\",\n",
    "    \"US\": \"Estados Unidos\",\n",
    "    \"FR\":\"França\",\n",
    "    \"DE\": \"Alemanha\"\n",
    "}\n",
    "\n",
    "resultado = dicionario.get(\"FR\", \"Não encontrado\")\n",
    "print(resultado)"
   ]
  },
  {
   "cell_type": "code",
   "execution_count": 25,
   "id": "fd9f80ff",
   "metadata": {},
   "outputs": [
    {
     "name": "stdout",
     "output_type": "stream",
     "text": [
      "11\n"
     ]
    }
   ],
   "source": [
    "num = [ 5,7,2,4,9,1]\n",
    "\n",
    "num.sort()\n",
    "resultado = num[2] + num[-2]\n",
    "\n",
    "print(resultado)"
   ]
  },
  {
   "cell_type": "code",
   "execution_count": 26,
   "id": "d18e5287",
   "metadata": {},
   "outputs": [
    {
     "name": "stdout",
     "output_type": "stream",
     "text": [
      "Pytho\n"
     ]
    }
   ],
   "source": [
    "def manipula_strings(str1, str2):\n",
    "    concat = str1 + str2\n",
    "    if len(concat) > 10:\n",
    "        return concat[:5]\n",
    "    else:\n",
    "        return concat[::-1]\n",
    " \n",
    "resultado = manipula_strings(\"Python\", \"Rocks\")\n",
    "print(resultado)"
   ]
  },
  {
   "cell_type": "code",
   "execution_count": 27,
   "id": "4334ac43",
   "metadata": {},
   "outputs": [
    {
     "name": "stdout",
     "output_type": "stream",
     "text": [
      "Toyota - Corolla - 4 portas\n"
     ]
    }
   ],
   "source": [
    "class Veiculo:\n",
    "    def __init__(self, marca, modelo):\n",
    "        self.marca = marca\n",
    "        self.modelo = modelo\n",
    " \n",
    "    def info(self):\n",
    "        return f\"{self.marca} - {self.modelo}\"\n",
    " \n",
    "class Carro(Veiculo):\n",
    "    def __init__(self, marca, modelo, portas):\n",
    "        super().__init__(marca, modelo)\n",
    "        self.portas = portas\n",
    " \n",
    "    def info(self):\n",
    "        return f\"{super().info()} - {self.portas} portas\"\n",
    "\n",
    "meu_carro = Carro(\"Toyota\", \"Corolla\", 4)\n",
    "resultado = meu_carro.info()\n",
    "print(resultado)"
   ]
  },
  {
   "cell_type": "code",
   "execution_count": 28,
   "id": "fb269105",
   "metadata": {},
   "outputs": [
    {
     "name": "stdout",
     "output_type": "stream",
     "text": [
      "60\n"
     ]
    }
   ],
   "source": [
    "lista_numeros = [5, 10, 15, 20, 25]\n",
    "soma = 0\n",
    "indice = 0\n",
    " \n",
    "while indice < len(lista_numeros):\n",
    "    if lista_numeros[indice] > 12:\n",
    "        soma += lista_numeros[indice]\n",
    "    indice += 1\n",
    " \n",
    "resultado = soma\n",
    " \n",
    "print(resultado)\n"
   ]
  },
  {
   "cell_type": "code",
   "execution_count": 29,
   "id": "6e68dadf",
   "metadata": {},
   "outputs": [
    {
     "name": "stdout",
     "output_type": "stream",
     "text": [
      "42\n"
     ]
    }
   ],
   "source": [
    "\n",
    "contador = 0\n",
    "multiplicador = 1\n",
    " \n",
    "while contador < 4:\n",
    "    multiplicador *= 2\n",
    "    contador += 1\n",
    "    multiplicador += contador\n",
    "    \n",
    "    \n",
    "print(multiplicador)"
   ]
  },
  {
   "cell_type": "code",
   "execution_count": 33,
   "id": "6315f78e",
   "metadata": {},
   "outputs": [
    {
     "name": "stdout",
     "output_type": "stream",
     "text": [
      "D\n"
     ]
    }
   ],
   "source": [
    "list_1 = [2, 4, 6, 8, 10]\n",
    "list_2 = [1, 3, 5, 7, 9]\n",
    " \n",
    "sum_1 = sum(list_1)\n",
    "sum_2 = sum(list_2)\n",
    " \n",
    "mensagem = \"Inicial\"\n",
    " \n",
    "if sum_1 > 30:\n",
    "    mensagem = \"A\"\n",
    "if sum_2 < 30:\n",
    "    mensagem = \"B\"\n",
    "if sum_1 == 2 * sum_2:\n",
    "    mensagem = \"C\"\n",
    "if len(list_1) == len(list_2) and sum_1 > sum_2:\n",
    "    mensagem = \"D\"\n",
    "    \n",
    "    \n",
    "print(mensagem)"
   ]
  },
  {
   "cell_type": "code",
   "execution_count": 34,
   "id": "7a1a37d3",
   "metadata": {},
   "outputs": [
    {
     "name": "stdout",
     "output_type": "stream",
     "text": [
      "[]\n"
     ]
    }
   ],
   "source": [
    "\n",
    "valores = [2, 4, 6, 8, 10]\n",
    "resultados = []\n",
    "i = 0\n",
    " \n",
    "while i < len(valores):\n",
    "    if valores[i] % 4 == 0:\n",
    "        resultados.append(valores[i])\n",
    "    i += 2\n",
    " \n",
    " \n",
    "print(resultados)\n"
   ]
  },
  {
   "cell_type": "code",
   "execution_count": 35,
   "id": "3db5d781",
   "metadata": {},
   "outputs": [
    {
     "name": "stdout",
     "output_type": "stream",
     "text": [
      "60\n"
     ]
    }
   ],
   "source": [
    "tupla_valores = (10, 20, 30, 40, 50)\n",
    "\n",
    "resultado = tupla_valores[-2] + tupla_valores[1]\n",
    "\n",
    "print(resultado)"
   ]
  },
  {
   "cell_type": "code",
   "execution_count": 36,
   "id": "38853314",
   "metadata": {},
   "outputs": [
    {
     "name": "stdout",
     "output_type": "stream",
     "text": [
      "(8, 12)\n"
     ]
    }
   ],
   "source": [
    "def calcular_dobro_triplo(numero):\n",
    "    dobro = numero * 2\n",
    "    triplo = numero * 3\n",
    "    return dobro, triplo\n",
    " \n",
    "resultado = calcular_dobro_triplo(4)\n",
    " \n",
    "print(resultado)"
   ]
  },
  {
   "cell_type": "code",
   "execution_count": 37,
   "id": "008e0ad8",
   "metadata": {},
   "outputs": [
    {
     "name": "stdout",
     "output_type": "stream",
     "text": [
      "4\n"
     ]
    }
   ],
   "source": [
    "\n",
    "def verifica_elemento(lista, valor):\n",
    "    if valor in lista:\n",
    "        return lista.index(valor) * 2\n",
    "    else:\n",
    "        return len(lista)\n",
    " \n",
    "resultado = verifica_elemento([1, 3, 5, 7, 9], 5)\n",
    " \n",
    " \n",
    "print(resultado)"
   ]
  },
  {
   "cell_type": "code",
   "execution_count": 38,
   "id": "1659514c",
   "metadata": {},
   "outputs": [
    {
     "name": "stdout",
     "output_type": "stream",
     "text": [
      "[10, 20, 30]\n"
     ]
    }
   ],
   "source": [
    "valores = [5, 10, 15, 20, 25, 30]\n",
    "filtrados = []\n",
    "i = 1\n",
    " \n",
    "while i < len(valores):\n",
    "    if valores[i] % 10 == 0:\n",
    "        filtrados.append(valores[i])\n",
    "    i += 2\n",
    " \n",
    " \n",
    "print(filtrados)"
   ]
  },
  {
   "cell_type": "code",
   "execution_count": 39,
   "id": "f9746fd1",
   "metadata": {},
   "outputs": [
    {
     "name": "stdout",
     "output_type": "stream",
     "text": [
      "15 5\n"
     ]
    }
   ],
   "source": [
    "def soma_e_subtrai(x, y):\n",
    "    s = x + y\n",
    "    d = x - y\n",
    "    return s, d\n",
    " \n",
    "a, b = soma_e_subtrai(10, 5)\n",
    " \n",
    " \n",
    "print(a, b)"
   ]
  },
  {
   "cell_type": "code",
   "execution_count": 40,
   "id": "122dd3e8",
   "metadata": {},
   "outputs": [
    {
     "name": "stdout",
     "output_type": "stream",
     "text": [
      "6\n",
      "630\n"
     ]
    }
   ],
   "source": [
    "economias = 10\n",
    "semana = 1\n",
    "total_economizado = economias\n",
    " \n",
    "while total_economizado < 320:\n",
    "    semana += 1\n",
    "    economias *= 2\n",
    "    total_economizado += economias\n",
    "    \n",
    "print(semana)\n",
    "print(total_economizado)"
   ]
  },
  {
   "cell_type": "code",
   "execution_count": 41,
   "id": "f99f77d6",
   "metadata": {},
   "outputs": [
    {
     "name": "stdout",
     "output_type": "stream",
     "text": [
      "5.0\n"
     ]
    }
   ],
   "source": [
    "def processa_valores(a, b, c):\n",
    "    \n",
    "    result = a * b + c\n",
    "    \n",
    "    if result % 2 == 0:\n",
    "    \n",
    "        return result / 2\n",
    "    \n",
    "    else:\n",
    "    \n",
    "        return result - 1\n",
    " \n",
    "saida = processa_valores(2, 3, 4)\n",
    " \n",
    " \n",
    "print(saida)"
   ]
  },
  {
   "cell_type": "code",
   "execution_count": 42,
   "id": "44078dae",
   "metadata": {},
   "outputs": [
    {
     "name": "stdout",
     "output_type": "stream",
     "text": [
      "[4, 16, 36]\n"
     ]
    }
   ],
   "source": [
    "numeros = [1, 2, 3, 4, 5, 6]\n",
    "\n",
    "resultado = [x**2 for x in numeros if x % 2 == 0]\n",
    " \n",
    "print(resultado)"
   ]
  },
  {
   "cell_type": "code",
   "execution_count": null,
   "id": "5875ff3f",
   "metadata": {},
   "outputs": [],
   "source": []
  }
 ],
 "metadata": {
  "kernelspec": {
   "display_name": "Python 3 (ipykernel)",
   "language": "python",
   "name": "python3"
  },
  "language_info": {
   "codemirror_mode": {
    "name": "ipython",
    "version": 3
   },
   "file_extension": ".py",
   "mimetype": "text/x-python",
   "name": "python",
   "nbconvert_exporter": "python",
   "pygments_lexer": "ipython3",
   "version": "3.11.5"
  }
 },
 "nbformat": 4,
 "nbformat_minor": 5
}
