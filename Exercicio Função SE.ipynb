{
 "cells": [
  {
   "cell_type": "code",
   "execution_count": 15,
   "id": "a567150e",
   "metadata": {},
   "outputs": [
    {
     "name": "stdout",
     "output_type": "stream",
     "text": [
      "Digite a nota do aluno: 95\n",
      "Sua classificação é Excelente.\n"
     ]
    }
   ],
   "source": [
    "\"\"\"\n",
    "Exercício:\n",
    "\n",
    "Classificação de Notas\n",
    "\n",
    "Neste exercício, seu objetivo é executar um programa que \n",
    "classifica as notas de um estudante em diferentes categorias.\n",
    "\n",
    "    Execute o programa.\n",
    "    \n",
    "    Insira a nota do estudante quando solicitado (entre 0 e 100).\n",
    "    \n",
    "    O programa irá informar a classificação da nota de acordo com os seguintes critérios:\n",
    "        Excelente: 90-100\n",
    "        Bom: 70-89\n",
    "        Satisfatório: 50-69\n",
    "        Insuficiente: 0-49\n",
    "\"\"\"\n",
    "\n",
    "\n",
    "nota = int(input(\"Digite a nota do aluno: \"))\n",
    "\n",
    "if nota >= 90 and nota <= 100:\n",
    "    print(\"Sua classificação é Excelente.\")\n",
    "elif nota >= 70 and nota <= 89:\n",
    "    print(\"Sua classificação é Bom.\")\n",
    "elif nota >= 50 and nota <= 69:\n",
    "    print(\"Sua classificação é Satisfatório.\")\n",
    "elif nota >= 0 and nota <= 49:\n",
    "    print(\"Sua classificação é Insuficiente.\")"
   ]
  },
  {
   "cell_type": "code",
   "execution_count": 18,
   "id": "4bd574de",
   "metadata": {},
   "outputs": [
    {
     "name": "stdout",
     "output_type": "stream",
     "text": [
      "Digite o valor da compra: 568\n",
      "O valor final é 511.2 e o desconto foi de 56.800000000000004\n"
     ]
    }
   ],
   "source": [
    "\"\"\"\n",
    "Exercício:\n",
    "\n",
    "Calculadora de Descontos\n",
    "\n",
    "Você é um cliente em uma loja que está tendo uma promoção especial. Dependendo \n",
    "do valor da sua compra, você pode receber um desconto!\n",
    "\n",
    "    Execute o programa.\n",
    "    \n",
    "    Insira o valor da sua compra quando solicitado.\n",
    "    \n",
    "    O programa irá calcular e informar o valor do desconto aplicado e o valor final \n",
    "    com o desconto.\n",
    "\n",
    "Os descontos são aplicados da seguinte forma:\n",
    "\n",
    "    Compras acima de R$1000 recebem 20% de desconto.\n",
    "    Compras de R$500 a R$1000 recebem 10% de desconto.\n",
    "    Compras abaixo de R$500 não recebem desconto.\n",
    "    \n",
    "    \n",
    "\"\"\"\n",
    "\n",
    "valor_compra = float(input(\"Digite o valor da compra: \"))\n",
    "\n",
    "if valor_compra > 1000:\n",
    "    valor_desconto= valor_compra * 0.2\n",
    "    valor_final = valor_compra - valor_desconto\n",
    "    print(f\"O valor final é {valor_final} e o desconto foi de {valor_desconto}\")\n",
    "elif valor_compra > 500:\n",
    "    valor_desconto= valor_compra * 0.1\n",
    "    valor_final = valor_compra - valor_desconto\n",
    "    print(f\"O valor final é {valor_final} e o desconto foi de {valor_desconto}\")\n",
    "else:\n",
    "    print(f\"O valor final é {valor_compra} e o desconto foi de {valor_desconto}\")"
   ]
  },
  {
   "cell_type": "code",
   "execution_count": 26,
   "id": "e31a340d",
   "metadata": {},
   "outputs": [
    {
     "name": "stdout",
     "output_type": "stream",
     "text": [
      "Voce tem convite VIP? sim/não não\n",
      "Você foi convidado para a festa? sim/não não\n",
      "Você é membro do clube? sim/não não\n",
      "Desculpe, você não pode entrar no evento.\n"
     ]
    }
   ],
   "source": [
    "\"\"\"\n",
    "Exercício\n",
    "\n",
    "Entrada para um Evento Exclusivo\n",
    "\n",
    "Você foi convidado para um evento exclusivo. Para entrar, você deve \n",
    "atender a pelo menos uma das seguintes condições:\n",
    "\n",
    "    Ter um convite VIP.\n",
    "    Estar na lista de convidados.\n",
    "    Ser um membro do clube.\n",
    "\n",
    "    Execute o programa.\n",
    "    \n",
    "    Responda às perguntas fornecidas com 'sim' ou 'não'.\n",
    "    O programa irá informar se você pode entrar no evento ou não.\n",
    "    \n",
    "    \n",
    "    Bem-vindo(a) ao evento!\n",
    "    Desculpe, você não pode entrar no evento.\n",
    "    \n",
    "\"\"\"\n",
    "\n",
    "convite= input(\"Voce tem convite VIP? sim/não \")\n",
    "convidado = input(\"Você foi convidado para a festa? sim/não \")\n",
    "clube = input(\"Você é membro do clube? sim/não \")\n",
    "\n",
    "if convite == \"sim\" or convidado == \"sim\" or clube == \"sim\":\n",
    "    print(\"Bem-vindo(a) ao evento!\")\n",
    "else:\n",
    "    print(\"Desculpe, você não pode entrar no evento.\")\n",
    "    "
   ]
  },
  {
   "cell_type": "code",
   "execution_count": 32,
   "id": "a957f9ad",
   "metadata": {},
   "outputs": [
    {
     "name": "stdout",
     "output_type": "stream",
     "text": [
      "Digite um número: 4862\n",
      "PAR\n"
     ]
    }
   ],
   "source": [
    "#Exercicio Par ou Impar\n",
    "#Crie um algoritmo que solicite a entrada de um número positivo e inteiro e imprima se o\n",
    "#número é PAR ou IMPAR\n",
    "\n",
    "numero = int(input(\"Digite um número: \"))\n",
    "\n",
    "if numero % 2:\n",
    "    print(\"IMPAR\")\n",
    "else:\n",
    "    print(\"PAR\")"
   ]
  },
  {
   "cell_type": "code",
   "execution_count": 8,
   "id": "e5682f5d",
   "metadata": {},
   "outputs": [
    {
     "name": "stdout",
     "output_type": "stream",
     "text": [
      "alto\n"
     ]
    }
   ],
   "source": [
    "score =86\n",
    "\n",
    "status = \"baixo\" if score < 50 else \"media\" if score < 80 else \"alto\"\n",
    "\n",
    "\n",
    "print(status)"
   ]
  },
  {
   "cell_type": "code",
   "execution_count": null,
   "id": "5d5abda4",
   "metadata": {},
   "outputs": [],
   "source": []
  }
 ],
 "metadata": {
  "kernelspec": {
   "display_name": "Python 3 (ipykernel)",
   "language": "python",
   "name": "python3"
  },
  "language_info": {
   "codemirror_mode": {
    "name": "ipython",
    "version": 3
   },
   "file_extension": ".py",
   "mimetype": "text/x-python",
   "name": "python",
   "nbconvert_exporter": "python",
   "pygments_lexer": "ipython3",
   "version": "3.11.5"
  }
 },
 "nbformat": 4,
 "nbformat_minor": 5
}
