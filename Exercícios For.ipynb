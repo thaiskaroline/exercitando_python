{
 "cells": [
  {
   "cell_type": "code",
   "execution_count": 3,
   "id": "d082dee1",
   "metadata": {},
   "outputs": [
    {
     "name": "stdout",
     "output_type": "stream",
     "text": [
      "Multiplicando  1 o resultado é:  1\n",
      "Multiplicando  2 o resultado é:  2\n",
      "Multiplicando  3 o resultado é:  6\n",
      "Multiplicando  4 o resultado é:  24\n",
      "Multiplicando  5 o resultado é:  120\n",
      "Multiplicando  6 o resultado é:  720\n",
      "Multiplicando  7 o resultado é:  5040\n",
      "Multiplicando  8 o resultado é:  40320\n",
      "Multiplicando  9 o resultado é:  362880\n",
      "Multiplicando  10 o resultado é:  3628800\n"
     ]
    }
   ],
   "source": [
    "\"\"\"\n",
    "Exercício: Multiplicação de Números\n",
    "\n",
    "Objetivo: Escreva um programa que utilize um loop for para multiplicar os \n",
    "números de 1 a 5 e imprima o resultado de cada etapa e o resultado final.\n",
    "\n",
    "Etapas:\n",
    "\n",
    "    - Utilize um loop for para iterar pelos números de 1 a 5.\n",
    "    - Multiplique cada número pelo resultado anterior (começando por 1).\n",
    "    - Imprima o resultado de cada etapa.\n",
    "    - Imprima o resultado final da multiplicação de todos os números.\n",
    "\n",
    "Saída:\n",
    "\n",
    "Multiplicando por 1, o resultado parcial é 1\n",
    "Multiplicando por 2, o resultado parcial é 2\n",
    "Multiplicando por 3, o resultado parcial é 6\n",
    "Multiplicando por 4, o resultado parcial é 24\n",
    "Multiplicando por 5, o resultado parcial é 120\n",
    "\"\"\"\n",
    "\n",
    "\n",
    "resultado = 1\n",
    "\n",
    "\n",
    "for multi in range(1,11):\n",
    "    \n",
    "    resultado *= multi\n",
    "    \n",
    "    print(\"Multiplicando \", multi, \"o resultado é: \", resultado)\n",
    "\n"
   ]
  },
  {
   "cell_type": "code",
   "execution_count": 6,
   "id": "43c441be",
   "metadata": {},
   "outputs": [
    {
     "name": "stdout",
     "output_type": "stream",
     "text": [
      "Digite um número inteiro positivo: 56\n",
      "Número 2 + 0 = 2\n",
      "Número 4 + 2 = 6\n",
      "Número 6 + 6 = 12\n",
      "Número 8 + 12 = 20\n",
      "Número 10 + 20 = 30\n",
      "Número 12 + 30 = 42\n",
      "Número 14 + 42 = 56\n",
      "Número 16 + 56 = 72\n",
      "Número 18 + 72 = 90\n",
      "Número 20 + 90 = 110\n",
      "Número 22 + 110 = 132\n",
      "Número 24 + 132 = 156\n",
      "Número 26 + 156 = 182\n",
      "Número 28 + 182 = 210\n",
      "Número 30 + 210 = 240\n",
      "Número 32 + 240 = 272\n",
      "Número 34 + 272 = 306\n",
      "Número 36 + 306 = 342\n",
      "Número 38 + 342 = 380\n",
      "Número 40 + 380 = 420\n",
      "Número 42 + 420 = 462\n",
      "Número 44 + 462 = 506\n",
      "Número 46 + 506 = 552\n",
      "Número 48 + 552 = 600\n",
      "Número 50 + 600 = 650\n",
      "Número 52 + 650 = 702\n",
      "Número 54 + 702 = 756\n",
      "Número 56 + 756 = 812\n",
      "A soma dos numeros pares é:  812\n"
     ]
    }
   ],
   "source": [
    "\"\"\"\n",
    "Exercício: Soma de Números Pares\n",
    "\n",
    "Objetivo: Escreva um programa que peça ao usuário um número \n",
    "inteiro N e some todos os números pares de 1 até N, incluindo o próprio N (se for par). \n",
    "\n",
    "Utilize um loop for para esta tarefa.\n",
    "\n",
    "Etapas:\n",
    "\n",
    "    - Solicite ao usuário um número inteiro positivo N.\n",
    "    - Utilize um loop for para iterar de 1 a N e some todos os números pares.\n",
    "    - Imprima o resultado da soma.\n",
    "\n",
    "\n",
    "Exemplo de Saída:\n",
    "\n",
    "Digite um número inteiro positivo: 10\n",
    "A soma dos números pares de 1 até 10 é: 30\n",
    "\"\"\"\n",
    "\n",
    "\n",
    "numero = int(input(\"Digite um número inteiro positivo: \"))\n",
    "\n",
    "\n",
    "soma = 0\n",
    "\n",
    "for i in range (1, numero + 1):\n",
    "    \n",
    "    if i % 2 ==0:\n",
    "        \n",
    "        print(f\"Número {i} + {soma} = {i+soma}\")\n",
    "       \n",
    "        soma += i\n",
    "        \n",
    "print(\"A soma dos numeros pares é: \", soma)"
   ]
  },
  {
   "cell_type": "code",
   "execution_count": 8,
   "id": "eb793be4",
   "metadata": {},
   "outputs": [
    {
     "name": "stdout",
     "output_type": "stream",
     "text": [
      "Digite o número da tabuada desejada: 8\n",
      "8 * 1 = 8\n",
      "8 * 2 = 16\n",
      "8 * 3 = 24\n",
      "8 * 4 = 32\n",
      "8 * 5 = 40\n",
      "8 * 6 = 48\n",
      "8 * 7 = 56\n",
      "8 * 8 = 64\n",
      "8 * 9 = 72\n",
      "8 * 10 = 80\n"
     ]
    }
   ],
   "source": [
    "\"\"\"\n",
    "Exercício: Tabela de Multiplicação\n",
    "\n",
    "Objetivo: Escreva um programa que peça ao usuário um número inteiro positivo NN e \n",
    "exiba a tabela de multiplicação para esse número, de 1 a 10. Utilize um loop for para esta tarefa.\n",
    "\n",
    "Etapas:\n",
    "\n",
    "    - Solicite ao usuário um número inteiro positivo NN.\n",
    "    - Utilize um loop for para iterar de 1 a 10.\n",
    "    - Para cada iteração, multiplique o número NN pelo valor da iteração e imprima o resultado.\n",
    "    \n",
    "Exemplo de Saída:\n",
    "\n",
    "Digite um número inteiro positivo para exibir a sua tabela de multiplicação: 5\n",
    "\n",
    "5 x 1 = 5\n",
    "5 x 2 = 10\n",
    "5 x 3 = 15\n",
    "5 x 4 = 20\n",
    "5 x 5 = 25\n",
    "5 x 6 = 30\n",
    "5 x 7 = 35\n",
    "5 x 8 = 40\n",
    "5 x 9 = 45\n",
    "5 x 10 = 50\n",
    "Fim da tabela de multiplicação.\n",
    "\n",
    "\"\"\"\n",
    "\n",
    "\n",
    "tabuada = int(input(\"Digite o número da tabuada desejada: \"))\n",
    "\n",
    "for i in range(1,11):\n",
    "    \n",
    "    print(f\"{tabuada} * {i} = {tabuada*i}\")"
   ]
  },
  {
   "cell_type": "code",
   "execution_count": 12,
   "id": "aaa6a401",
   "metadata": {},
   "outputs": [
    {
     "name": "stdout",
     "output_type": "stream",
     "text": [
      "Digite um numero inteiro positivo: 5\n",
      "Quadrado de 1: 1\n",
      "Quadrado de 2: 4\n",
      "Quadrado de 3: 9\n",
      "Quadrado de 4: 16\n",
      "Quadrado de 5: 25\n",
      "A soma dos quadrados dos numeros de 1 até 5 é: 55\n"
     ]
    }
   ],
   "source": [
    "\"\"\"\n",
    "Exercício: Soma dos Quadrados\n",
    "\n",
    "Objetivo: Escreva um programa que peça ao usuário um número inteiro positivo NN e \n",
    "calcule a soma dos quadrados de todos os números inteiros de 1 até NN. Utilize um loop \n",
    "for para esta tarefa.\n",
    "\n",
    "Etapas:\n",
    "\n",
    "    - Solicite ao usuário um número inteiro positivo NN.\n",
    "    \n",
    "    - Utilize um loop for para iterar de 1 a NN, calculando o quadrado \n",
    "    de cada número e somando-o a uma variável.\n",
    "    \n",
    "    - Imprima o resultado da soma.\n",
    "\n",
    "Exemplo de Saída:\n",
    "\n",
    "Digite um número inteiro positivo: 5\n",
    "Quadrado de 1: 1\n",
    "Quadrado de 2: 4\n",
    "Quadrado de 3: 9\n",
    "Quadrado de 4: 16\n",
    "Quadrado de 5: 25\n",
    "A soma dos quadrados dos números de 1 até 5 é: 55\n",
    "\n",
    "\n",
    "\"\"\"\n",
    "\n",
    "\n",
    "numero = int(input(\"Digite um numero inteiro positivo: \"))\n",
    "\n",
    "soma_quad = 0\n",
    "\n",
    "for i in range (1,numero +1):\n",
    "    \n",
    "    quadrado = i **2\n",
    "    \n",
    "    soma_quad += quadrado\n",
    "    \n",
    "    print(f\"Quadrado de {i}: {quadrado}\")\n",
    "    \n",
    "print(f\"A soma dos quadrados dos numeros de 1 até {numero} é: {soma_quad}\")"
   ]
  },
  {
   "cell_type": "code",
   "execution_count": 15,
   "id": "9d4b0d35",
   "metadata": {},
   "outputs": [
    {
     "name": "stdout",
     "output_type": "stream",
     "text": [
      "Achei a UVA!\n"
     ]
    }
   ],
   "source": [
    "feira = [\"maça\", \"banana\", \"abacaxi\", \"uva\", \"pera\"]\n",
    "\n",
    "\n",
    "for fruta in feira:\n",
    "    \n",
    "    if fruta ==  \"uva\":\n",
    "        \n",
    "        print(\"Achei a UVA!\")\n",
    "        \n",
    "    "
   ]
  },
  {
   "cell_type": "code",
   "execution_count": 16,
   "id": "d02227b0",
   "metadata": {},
   "outputs": [
    {
     "name": "stdout",
     "output_type": "stream",
     "text": [
      "Eu preciso comprar maçã.\n",
      "Eu preciso comprar banana.\n",
      "Eu preciso comprar cenoura.\n",
      "Eu preciso comprar leite.\n"
     ]
    }
   ],
   "source": [
    "\"\"\"\n",
    "Exercício: Lista de Compras\n",
    "\n",
    "Objetivo: Use um loop for para iterar sobre uma lista de itens de \n",
    "compras e imprimir cada item em um formato específico.\n",
    "\n",
    "Instruções:\n",
    "\n",
    "    1. Crie uma lista chamada itens_compra contendo alguns itens que \n",
    "    você compraria em uma loja, por exemplo: [\"maçã\", \"banana\", \"cenoura\", \"leite\"].\n",
    "    \n",
    "    2. Use um loop for para iterar sobre os itens da lista.\n",
    "    3. Para cada item na lista, imprima o item no seguinte formato: \"Eu preciso comprar [item]\".\n",
    "\n",
    "Após concluir o exercício, sua saída deve se parecer com:\n",
    "\n",
    "Eu preciso comprar maçã\n",
    "Eu preciso comprar banana\n",
    "Eu preciso comprar cenoura\n",
    "Eu preciso comprar leite\n",
    "\n",
    "\"\"\"\n",
    "\n",
    "lista = [\"maçã\", \"banana\", \"cenoura\", \"leite\"]\n",
    "\n",
    "\n",
    "for item in lista:\n",
    "    \n",
    "    print(f\"Eu preciso comprar {item}.\")\n",
    "\n"
   ]
  },
  {
   "cell_type": "code",
   "execution_count": 13,
   "id": "e98cd8f2",
   "metadata": {},
   "outputs": [
    {
     "name": "stdout",
     "output_type": "stream",
     "text": [
      "*****\n",
      "****\n",
      "***\n",
      "**\n",
      "*\n"
     ]
    }
   ],
   "source": [
    "\"\"\"\n",
    "Exercício: Estrelas Descendentes\n",
    "\n",
    "Objetivo: Use um loop for para criar um padrão descendente \n",
    "de estrelas (*). Comece com 5 estrelas na primeira linha e reduza \n",
    "uma estrela em cada linha subsequente até não restar nenhuma estrela.\n",
    "\n",
    "Instruções:\n",
    "\n",
    "    1. Use um loop for para iterar de 5 a 0 (dica: pense sobre \n",
    "    a função range() de maneira descendente).\n",
    "    \n",
    "    2. Em cada iteração do loop, imprima o número atual \n",
    "    de estrelas em uma única linha.\n",
    "\n",
    "Após concluir o exercício, sua saída deve se parecer com:\n",
    "\n",
    "*****\n",
    "****\n",
    "***\n",
    "**\n",
    "*\n",
    "\n",
    "\n",
    "\"\"\"\n",
    "\n",
    "\n",
    "for i in range (5, 0, -1):\n",
    "    \n",
    "    print(f\"*\" * i)"
   ]
  },
  {
   "cell_type": "code",
   "execution_count": 22,
   "id": "4bcc9fb4",
   "metadata": {},
   "outputs": [
    {
     "name": "stdout",
     "output_type": "stream",
     "text": [
      "carro\n",
      "árvore\n"
     ]
    }
   ],
   "source": [
    "\"\"\"\n",
    "Exercício: Palavras com Mais de 4 Letras\n",
    "\n",
    "Objetivo: Solicite ao usuário uma lista de palavras e, em \n",
    "seguida, exiba apenas as palavras que têm mais de 4 letras.\n",
    "\n",
    "Instruções:\n",
    "\n",
    "    1. Peça ao usuário que insira palavras separadas \n",
    "    por vírgula (por exemplo, [\"casa\",\"carro\",\"sol\",\"árvore\"]).\n",
    "    \n",
    "    2. Use um loop for para iterar sobre essa lista de palavras.\n",
    "    \n",
    "    3. Dentro do loop, verifique o comprimento de cada palavra.\n",
    "    \n",
    "    4. Se a palavra tiver mais de 4 letras, imprima-a.\n",
    "\n",
    "Após concluir o exercício, se o usuário inserir \"casa,carro,sol,árvore\", a saída deve ser:\n",
    "\n",
    "carro\n",
    "árvore\n",
    "\n",
    "\"\"\"\n",
    "\n",
    "lista = [\"casa\",\"carro\",\"sol\",\"árvore\"]\n",
    "\n",
    "for palavra in lista:\n",
    "    \n",
    "    if len(palavra) > 4:\n",
    "        \n",
    "        print(palavra)\n",
    "\n"
   ]
  },
  {
   "cell_type": "code",
   "execution_count": 24,
   "id": "a9c4e6be",
   "metadata": {},
   "outputs": [
    {
     "name": "stdout",
     "output_type": "stream",
     "text": [
      "Digite um numero inteiro não negativo: 5\n",
      "O fatorial de 5 é: 120\n"
     ]
    }
   ],
   "source": [
    "\"\"\"\n",
    "Exercício\n",
    "\n",
    "Crie um programa em Python que solicite ao usuário que digite um número inteiro\n",
    "não negativo. Em seguida, calcule e exiba o fatorial desse número.\n",
    "\n",
    "Digite um número inteiro não negativo: 5\n",
    "O fatorial de 5 é: 120\n",
    "\"\"\"\n",
    "\n",
    "\n",
    "numero = int(input(\"Digite um numero inteiro não negativo: \"))\n",
    "\n",
    "if numero < 0:\n",
    "    \n",
    "    print(\"Numero Inválido. Tente Novamente.\")\n",
    "    \n",
    "    \n",
    "else:\n",
    "    \n",
    "    fatorial = 1\n",
    "    \n",
    "    for i in range (1, numero +1):\n",
    "        \n",
    "        fatorial *= i\n",
    "        \n",
    "    print(f\"O fatorial de {numero} é: {fatorial}\")    "
   ]
  },
  {
   "cell_type": "code",
   "execution_count": 17,
   "id": "9a5f92f1",
   "metadata": {},
   "outputs": [
    {
     "name": "stdout",
     "output_type": "stream",
     "text": [
      "    *\n",
      "   ***\n",
      "  *****\n",
      " *******\n",
      "*********\n"
     ]
    }
   ],
   "source": [
    "\"\"\"Criando Triangulo com loop for\"\"\"\n",
    "altura = 5\n",
    "\n",
    "for i in range (altura):\n",
    "    \n",
    "    espacos = altura - i - 1\n",
    "    asteriscos = 2 * i + 1\n",
    "    print(\" \" * espacos + \"*\" * asteriscos)"
   ]
  },
  {
   "cell_type": "code",
   "execution_count": 20,
   "id": "31602a7e",
   "metadata": {},
   "outputs": [
    {
     "name": "stdout",
     "output_type": "stream",
     "text": [
      "* * * * \n",
      "* * * * \n",
      "* * * * \n",
      "* * * * \n",
      "* * * * \n"
     ]
    }
   ],
   "source": [
    "\"\"\"Criando Retângulo com loop for\"\"\"\n",
    "\n",
    "\n",
    "altura = 5\n",
    "largura = 4\n",
    "\n",
    "for i in range(altura):\n",
    "    \n",
    "    for j in range(largura):\n",
    "        \n",
    "        \n",
    "        print(\"*\", end=\" \")\n",
    "        \n",
    "    print()"
   ]
  },
  {
   "cell_type": "code",
   "execution_count": null,
   "id": "866995b2",
   "metadata": {},
   "outputs": [],
   "source": []
  }
 ],
 "metadata": {
  "kernelspec": {
   "display_name": "Python 3 (ipykernel)",
   "language": "python",
   "name": "python3"
  },
  "language_info": {
   "codemirror_mode": {
    "name": "ipython",
    "version": 3
   },
   "file_extension": ".py",
   "mimetype": "text/x-python",
   "name": "python",
   "nbconvert_exporter": "python",
   "pygments_lexer": "ipython3",
   "version": "3.11.5"
  }
 },
 "nbformat": 4,
 "nbformat_minor": 5
}
